{
 "cells": [
  {
   "cell_type": "markdown",
   "id": "fe4dec3f",
   "metadata": {},
   "source": [
    "https://console.anthropic.com/ \n",
    "https://docs.anthropic.com/pt/docs/about-claude/models/all-models\n"
   ]
  },
  {
   "cell_type": "code",
   "execution_count": 6,
   "id": "88e90c6b",
   "metadata": {},
   "outputs": [
    {
     "name": "stdout",
     "output_type": "stream",
     "text": [
      "ABCB7: The human gene ABCB7 encodes a protein that belongs to the ATP-binding cassette (ABC) transporter family. This protein functions as a mitochondrial iron transporter, specifically involved in iron-sulfur (Fe-S) cluster export from mitochondria to the cytosol. ABCB7 plays a crucial role in iron homeostasis and the maturation of cytosolic iron-sulfur proteins.\n",
      "\n",
      "Mutations in ABCB7 are associated with X-linked sideroblastic anemia with ataxia (XLSA/A), a rare genetic disorder characterized by anemia and early-onset non-progressive cerebellar ataxia. This highlights the importance of ABCB7 in both hematopoiesis and neurological function.\n",
      "\n",
      "ABCD1: The ABCD1 gene (ATP Binding Cassette Subfamily D Member 1) encodes a protein called the adrenoleukodystrophy protein (ALDP), which is a peroxisomal membrane transporter. Its primary biological function is to transport very long-chain fatty acids (VLCFAs) into peroxisomes, where these fatty acids undergo beta-oxidation (breakdown).\n",
      "\n",
      "When ABCD1 is mutated or dysfunctional, VLCFAs accumulate in tissues throughout the body, particularly in the brain and adrenal glands, leading to X-linked adrenoleukodystrophy (X-ALD), a genetic disorder that affects the nervous system and adrenal glands.\n",
      "\n",
      "The protein functions as part of the ATP-binding cassette transporter family, using ATP hydrolysis to drive the transport of substrates across membranes.\n",
      "\n"
     ]
    }
   ],
   "source": [
    "import anthropic\n",
    "import pandas as pd\n",
    "import time\n",
    "import json\n",
    "\n",
    "# Carrega chave da Claude\n",
    "with open(\"keys/anthropickey.json\") as f:\n",
    "    api_key = json.load(f)[\"api_key\"]\n",
    "\n",
    "client = anthropic.Anthropic(api_key=api_key)\n",
    "\n",
    "genes = [\"ABCB7\", \"ABCD1\"]\n",
    "results = []\n",
    "\n",
    "def get_gene_description(gene_symbol):\n",
    "    prompt = f\"\"\"\n",
    "Human: What is the known biological function of the human gene {gene_symbol}?\n",
    "Assistant:\"\"\"\n",
    "\n",
    "    response = client.messages.create(\n",
    "        #model=\"claude-3-opus-latest\",\n",
    "        model= \"claude-3-7-sonnet-latest\",\n",
    "        max_tokens=200,\n",
    "        temperature=0.5,\n",
    "        messages=[{\"role\": \"user\", \"content\": prompt}]\n",
    "    )\n",
    "    return response.content[0].text.strip()\n",
    "\n",
    "for gene in genes:\n",
    "    try:\n",
    "        desc = get_gene_description(gene)\n",
    "        results.append({\"gene\": gene, \"function\": desc})\n",
    "        print(f\"{gene}: {desc}\\n\")\n",
    "        time.sleep(1)\n",
    "    except Exception as e:\n",
    "        print(f\"Erro em {gene}: {e}\")\n",
    "\n",
    "df = pd.DataFrame(results)\n",
    "df.to_csv(\"data/output_gene_functions_anthropic.csv\", index=False)\n"
   ]
  }
 ],
 "metadata": {
  "kernelspec": {
   "display_name": ".venv",
   "language": "python",
   "name": "python3"
  },
  "language_info": {
   "codemirror_mode": {
    "name": "ipython",
    "version": 3
   },
   "file_extension": ".py",
   "mimetype": "text/x-python",
   "name": "python",
   "nbconvert_exporter": "python",
   "pygments_lexer": "ipython3",
   "version": "3.10.9"
  }
 },
 "nbformat": 4,
 "nbformat_minor": 5
}
