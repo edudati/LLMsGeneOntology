{
 "cells": [
  {
   "cell_type": "code",
   "execution_count": null,
   "id": "f260daa8",
   "metadata": {},
   "outputs": [],
   "source": [
    "import json\n",
    "import time\n",
    "import pandas as pd\n",
    "from openai import OpenAI\n",
    "\n",
    "with open(\"keys/openaikey.json\") as f:\n",
    "    api_key = json.load(f)[\"api_key\"]\n",
    "\n",
    "client = OpenAI(api_key=api_key)\n",
    "\n",
    "genes = [\"ABCB7\", \"ABCD1\"]\n",
    "\n",
    "def get_gene_description(gene_symbol):\n",
    "        \n",
    "    prompt = f\"\"\"\n",
    "    What is the known biological function of the human gene {gene_symbol}?\n",
    "    \"\"\"\n",
    "\n",
    "    response = client.chat.completions.create(\n",
    "        model=\"gpt-4\",\n",
    "        messages=[\n",
    "            {\"role\": \"user\", \"content\": prompt}\n",
    "        ],\n",
    "        temperature=0.5,\n",
    "        max_tokens=200\n",
    "    )\n",
    "\n",
    "    return response.choices[0].message.content.strip()\n",
    "\n",
    "for gene in genes:\n",
    "    try:\n",
    "        desc = get_gene_description(gene)\n",
    "        print(f\"{gene}: {desc}\\n\")\n",
    "        time.sleep(1)\n",
    "    except Exception as e:\n",
    "        print(f\"Error processing{gene}: {e}\")"
   ]
  }
 ],
 "metadata": {
  "kernelspec": {
   "display_name": ".venv",
   "language": "python",
   "name": "python3"
  },
  "language_info": {
   "codemirror_mode": {
    "name": "ipython",
    "version": 3
   },
   "file_extension": ".py",
   "mimetype": "text/x-python",
   "name": "python",
   "nbconvert_exporter": "python",
   "pygments_lexer": "ipython3",
   "version": "3.10.9"
  }
 },
 "nbformat": 4,
 "nbformat_minor": 5
}
