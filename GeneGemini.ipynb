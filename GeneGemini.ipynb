{
 "cells": [
  {
   "cell_type": "markdown",
   "id": "fe4dec3f",
   "metadata": {},
   "source": [
    "https://ai.google.dev/api/models \n",
    "\n",
    "https://aistudio.google.com/app/apikey\n"
   ]
  },
  {
   "cell_type": "code",
   "execution_count": 3,
   "id": "88e90c6b",
   "metadata": {},
   "outputs": [
    {
     "name": "stdout",
     "output_type": "stream",
     "text": [
      "ABCB7: ABCB7 is a mitochondrial transporter protein crucial for iron homeostasis within the cell, specifically within the mitochondria.  It's involved in the export of iron-sulfur cluster precursors from the mitochondria to the cytosol.  These precursors are essential for the biosynthesis of iron-sulfur clusters, which are vital cofactors for numerous proteins involved in crucial cellular processes, including:\n",
      "\n",
      "* **Cellular respiration:** Iron-sulfur clusters are key components of the electron transport chain, which generates energy for the cell.\n",
      "* **DNA synthesis and repair:** Several enzymes involved in DNA replication and repair utilize iron-sulfur clusters.\n",
      "* **Ribosome biogenesis:** Iron-sulfur clusters play a role in the assembly of ribosomes, the protein synthesis machinery of the cell.\n",
      "\n",
      "Defects in ABCB7 function can lead to mitochondrial iron overload and deficiencies in iron-sulfur cluster biogenesis. This can result in various diseases, most notably X-linked sideroblastic anemia with ataxia\n",
      "\n",
      "ABCD1: The ABCD1 gene provides instructions for making a protein called the **adrenoleukodystrophy protein (ALDP)**.  ALDP is a transporter protein located in the peroxisome membrane. Its primary function is to **transport very long chain fatty acids (VLCFAs)** into the peroxisome for degradation.  Without proper ALDP function, VLCFAs accumulate in the body, particularly in the brain and adrenal glands, leading to the severe neurological dysfunction seen in X-linked adrenoleukodystrophy (X-ALD).\n",
      "\n",
      "Arquivo salvo: output_gene_functions_google.csv\n"
     ]
    }
   ],
   "source": [
    "import google.generativeai as genai\n",
    "import pandas as pd\n",
    "import time\n",
    "import json\n",
    "\n",
    "# Carrega chave da Google\n",
    "with open(\"keys/geminikey.json\") as f:\n",
    "    api_key = json.load(f)[\"api_key\"]\n",
    "\n",
    "# Configura o cliente\n",
    "genai.configure(api_key=api_key)\n",
    "\n",
    "# Usa modelo Gemini 1.5 Pro\n",
    "model = genai.GenerativeModel(model_name=\"models/gemini-1.5-pro\")\n",
    "\n",
    "genes = [\"ABCB7\", \"ABCD1\"]\n",
    "results = []\n",
    "\n",
    "def get_gene_description(gene_symbol):\n",
    "    prompt = f\"What is the known biological function of the human gene {gene_symbol}?\"\n",
    "    response = model.generate_content(\n",
    "        prompt,\n",
    "        generation_config=genai.types.GenerationConfig(max_output_tokens=200)\n",
    "    )\n",
    "    return response.text.strip()\n",
    "\n",
    "for gene in genes:\n",
    "    try:\n",
    "        desc = get_gene_description(gene)\n",
    "        results.append({\"gene\": gene, \"function\": desc})\n",
    "        print(f\"{gene}: {desc}\\n\")\n",
    "        time.sleep(1)\n",
    "    except Exception as e:\n",
    "        print(f\"Erro em {gene}: {e}\")\n",
    "\n",
    "df = pd.DataFrame(results)\n",
    "df.to_csv(\"data/output_gene_functions_google.csv\", index=False)\n",
    "print(\"Arquivo salvo: output_gene_functions_google.csv\")\n"
   ]
  },
  {
   "cell_type": "code",
   "execution_count": null,
   "id": "4c095584",
   "metadata": {},
   "outputs": [],
   "source": []
  }
 ],
 "metadata": {
  "kernelspec": {
   "display_name": ".venv",
   "language": "python",
   "name": "python3"
  },
  "language_info": {
   "codemirror_mode": {
    "name": "ipython",
    "version": 3
   },
   "file_extension": ".py",
   "mimetype": "text/x-python",
   "name": "python",
   "nbconvert_exporter": "python",
   "pygments_lexer": "ipython3",
   "version": "3.10.9"
  }
 },
 "nbformat": 4,
 "nbformat_minor": 5
}
